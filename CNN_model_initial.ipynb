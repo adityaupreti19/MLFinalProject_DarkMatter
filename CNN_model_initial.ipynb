{
 "cells": [
  {
   "cell_type": "code",
   "execution_count": null,
   "metadata": {},
   "outputs": [],
   "source": [
    "#This is the python code for running the initial CNN model with 4 convolutional layers. "
   ]
  },
  {
   "cell_type": "code",
   "execution_count": null,
   "metadata": {},
   "outputs": [],
   "source": [
    "#The processed training and test images dataset can be downloaded from the following URL\n",
    "#https://alabama.box.com/s/u18t3z0kahgpedgva1h06eikkb6nocr4"
   ]
  },
  {
   "cell_type": "code",
   "execution_count": null,
   "metadata": {},
   "outputs": [],
   "source": [
    "#Download the zip files from the following link"
   ]
  },
  {
   "cell_type": "code",
   "execution_count": null,
   "metadata": {},
   "outputs": [],
   "source": [
    "#Training images\n",
    "\n",
    "!wget https://alabama.box.com/s/isylwsjb5wphq0owgjl1hx12xad81w2a"
   ]
  },
  {
   "cell_type": "code",
   "execution_count": null,
   "metadata": {},
   "outputs": [],
   "source": [
    "!gzip -d Training_0.2.zip"
   ]
  },
  {
   "cell_type": "code",
   "execution_count": null,
   "metadata": {},
   "outputs": [],
   "source": [
    "#Test images\n",
    "\n",
    "!wget https://alabama.box.com/s/254plk0zo7uez06gvn1kjbqfb0li2brf"
   ]
  },
  {
   "cell_type": "code",
   "execution_count": null,
   "metadata": {},
   "outputs": [],
   "source": [
    "!gzip -d Test_0.2.zip"
   ]
  },
  {
   "cell_type": "code",
   "execution_count": 30,
   "metadata": {
    "executionInfo": {
     "elapsed": 338,
     "status": "ok",
     "timestamp": 1618203091200,
     "user": {
      "displayName": "RAFI SAZZAD",
      "photoUrl": "https://lh3.googleusercontent.com/a-/AOh14Gi4U07bmA1TVAm2Vz7vb6dpaOfBcX-d1KLhH4EP8Q=s64",
      "userId": "09687994997096510332"
     },
     "user_tz": 300
    },
    "id": "dUP5b4IfVW7_"
   },
   "outputs": [],
   "source": [
    "import glob\n",
    "import numpy as np\n",
    "import os.path as path\n",
    "import imageio\n",
    "import matplotlib.pyplot as plt\n",
    "from keras.models import Sequential\n",
    "from keras.layers import Activation, Dropout, Flatten, Dense, Conv2D, MaxPooling2D, LeakyReLU, BatchNormalization\n",
    "from keras.callbacks import EarlyStopping, TensorBoard\n",
    "from datetime import datetime\n",
    "import keras\n",
    "from keras import regularizers\n",
    "from sklearn.model_selection import train_test_split\n",
    "import pandas as pd\n",
    "from sklearn.metrics import accuracy_score, f1_score, average_precision_score, precision_recall_curve, auc,recall_score\n",
    "from keras.optimizers import Adam\n",
    "from keras.regularizers import l2\n",
    "import h5py\n",
    "from sklearn.model_selection import GridSearchCV\n",
    "from keras.backend import cast, greater, clip, floatx,epsilon\n",
    "from keras.wrappers.scikit_learn import KerasClassifier\n",
    "from keras import backend as K\n",
    "from sklearn.model_selection import StratifiedKFold\n",
    "from sklearn.datasets import make_classification\n",
    "from sklearn.linear_model import LogisticRegression\n",
    "from sklearn.model_selection import train_test_split\n",
    "from sklearn.metrics import precision_recall_curve\n",
    "from sklearn.metrics import f1_score\n",
    "from sklearn.metrics import auc\n",
    "from matplotlib import pyplot\n",
    "from tensorflow import image\n",
    "import tensorflow as tf\n",
    "import pandas as pd\n",
    "\n",
    "from keras.initializers import TruncatedNormal, RandomUniform\n",
    "from keras import regularizers\n",
    "from keras.layers import Input, Dense, Dropout, Flatten, Conv2D, MaxPooling2D, BatchNormalization\n",
    "from keras.constraints import max_norm\n",
    "from keras.callbacks import ReduceLROnPlateau, EarlyStopping\n",
    "from sklearn.preprocessing import Normalizer, StandardScaler"
   ]
  },
  {
   "cell_type": "code",
   "execution_count": null,
   "metadata": {},
   "outputs": [],
   "source": []
  },
  {
   "cell_type": "code",
   "execution_count": 31,
   "metadata": {
    "colab": {
     "base_uri": "https://localhost:8080/"
    },
    "executionInfo": {
     "elapsed": 175137,
     "status": "ok",
     "timestamp": 1618202519983,
     "user": {
      "displayName": "RAFI SAZZAD",
      "photoUrl": "https://lh3.googleusercontent.com/a-/AOh14Gi4U07bmA1TVAm2Vz7vb6dpaOfBcX-d1KLhH4EP8Q=s64",
      "userId": "09687994997096510332"
     },
     "user_tz": 300
    },
    "id": "CYrhHiaGVbEs",
    "outputId": "9438b8b8-3069-4178-aeea-4b3d05b8f07b"
   },
   "outputs": [
    {
     "name": "stdout",
     "output_type": "stream",
     "text": [
      "(13502, 200, 200, 4)\n",
      "[200 200   4]\n"
     ]
    }
   ],
   "source": [
    "#This defines the image path\n",
    "\n",
    "IMAGE_PATH = \"/Users/adityaupreti/Desktop/PH582ML2021/FinalProject/Images/Training_0.2/\"\n",
    "file_paths = glob.glob(path.join(IMAGE_PATH, '*.png'))\n",
    "\n",
    "# The images are loaded into a single variable and convert to a numpy array\n",
    "images = [imageio.imread(path) for path in file_paths]\n",
    "images = np.asarray(images)\n",
    "print(images.shape)\n",
    "\n",
    "image_size = np.asarray([images.shape[1], images.shape[2], images.shape[3]])\n",
    "print(image_size)\n",
    "\n",
    "# this is done to scale images so values are between 0 and 1\n",
    "images = images / 255\n"
   ]
  },
  {
   "cell_type": "code",
   "execution_count": 32,
   "metadata": {
    "colab": {
     "base_uri": "https://localhost:8080/"
    },
    "executionInfo": {
     "elapsed": 286,
     "status": "ok",
     "timestamp": 1618202561584,
     "user": {
      "displayName": "RAFI SAZZAD",
      "photoUrl": "https://lh3.googleusercontent.com/a-/AOh14Gi4U07bmA1TVAm2Vz7vb6dpaOfBcX-d1KLhH4EP8Q=s64",
      "userId": "09687994997096510332"
     },
     "user_tz": 300
    },
    "id": "ZbRPYU3c9I3H",
    "outputId": "57f99368-e46f-46b3-d698-e80e3de95ae9"
   },
   "outputs": [
    {
     "data": {
      "text/plain": [
       "(13502, 200, 200, 4)"
      ]
     },
     "execution_count": 32,
     "metadata": {},
     "output_type": "execute_result"
    }
   ],
   "source": [
    "images.shape"
   ]
  },
  {
   "cell_type": "code",
   "execution_count": 33,
   "metadata": {
    "executionInfo": {
     "elapsed": 282,
     "status": "ok",
     "timestamp": 1618202584235,
     "user": {
      "displayName": "RAFI SAZZAD",
      "photoUrl": "https://lh3.googleusercontent.com/a-/AOh14Gi4U07bmA1TVAm2Vz7vb6dpaOfBcX-d1KLhH4EP8Q=s64",
      "userId": "09687994997096510332"
     },
     "user_tz": 300
    },
    "id": "I9KWowIWeFTy"
   },
   "outputs": [],
   "source": [
    "#from tensorflow import image"
   ]
  },
  {
   "cell_type": "code",
   "execution_count": null,
   "metadata": {},
   "outputs": [],
   "source": [
    "images = image.resize(\n",
    "    images, [100,100], method='bilinear', preserve_aspect_ratio=False,\n",
    "    antialias=False, name=None).numpy()"
   ]
  },
  {
   "cell_type": "code",
   "execution_count": null,
   "metadata": {
    "colab": {
     "base_uri": "https://localhost:8080/"
    },
    "executionInfo": {
     "elapsed": 207,
     "status": "ok",
     "timestamp": 1618202756668,
     "user": {
      "displayName": "RAFI SAZZAD",
      "photoUrl": "https://lh3.googleusercontent.com/a-/AOh14Gi4U07bmA1TVAm2Vz7vb6dpaOfBcX-d1KLhH4EP8Q=s64",
      "userId": "09687994997096510332"
     },
     "user_tz": 300
    },
    "id": "KoAIroQ2edlT",
    "outputId": "2c32a8f2-c45d-4ca0-e918-66c0dd06cb09"
   },
   "outputs": [],
   "source": [
    "image_size = np.asarray([images.shape[1], images.shape[2], images.shape[3]])\n",
    "print(image_size)"
   ]
  },
  {
   "cell_type": "code",
   "execution_count": 4,
   "metadata": {
    "executionInfo": {
     "elapsed": 330,
     "status": "ok",
     "timestamp": 1618202765789,
     "user": {
      "displayName": "RAFI SAZZAD",
      "photoUrl": "https://lh3.googleusercontent.com/a-/AOh14Gi4U07bmA1TVAm2Vz7vb6dpaOfBcX-d1KLhH4EP8Q=s64",
      "userId": "09687994997096510332"
     },
     "user_tz": 300
    },
    "id": "tzpWtttMVeO9"
   },
   "outputs": [],
   "source": [
    "# Read the labels from the filenames\n",
    "\n",
    "n_images = images.shape[0]\n",
    "labels = np.zeros(n_images)\n",
    "for i in range(n_images):\n",
    "    filename = path.basename(file_paths[i])[0]\n",
    "    if filename[0] == 'W':                          #Every file that begins with W is assigned a 1\n",
    "        labels[i] = 1\n",
    "    else:\n",
    "        labels[i] = 0\n",
    "\n",
    "# Background = 0 = FALSE\n",
    "# WIMPS = 1 = TRUE\n"
   ]
  },
  {
   "cell_type": "code",
   "execution_count": 6,
   "metadata": {},
   "outputs": [],
   "source": [
    "# Split into test and training sets\n",
    "\n",
    "TRAIN_TEST_SPLIT = 0.7           \n",
    "\n",
    "# Split at the given index\n",
    "split_index = int(TRAIN_TEST_SPLIT * n_images)\n",
    "shuffled_indices = np.random.permutation(n_images)\n",
    "train_indices = shuffled_indices[0:split_index]\n",
    "test_indices = shuffled_indices[split_index:]\n",
    "\n",
    "# Split the images and the labels\n",
    "x_train = images[train_indices, :, :, :]\n",
    "y_train = labels[train_indices]\n",
    "x_val = images[test_indices, :, :, :]\n",
    "y_val = labels[test_indices]"
   ]
  },
  {
   "cell_type": "code",
   "execution_count": null,
   "metadata": {},
   "outputs": [],
   "source": []
  },
  {
   "cell_type": "code",
   "execution_count": 12,
   "metadata": {
    "scrolled": false
   },
   "outputs": [
    {
     "name": "stdout",
     "output_type": "stream",
     "text": [
      "Model: \"sequential_2\"\n",
      "_________________________________________________________________\n",
      "Layer (type)                 Output Shape              Param #   \n",
      "=================================================================\n",
      "conv2d_8 (Conv2D)            (None, 100, 100, 32)      1184      \n",
      "_________________________________________________________________\n",
      "batch_normalization_12 (Batc (None, 100, 100, 32)      128       \n",
      "_________________________________________________________________\n",
      "conv2d_9 (Conv2D)            (None, 100, 100, 32)      9248      \n",
      "_________________________________________________________________\n",
      "batch_normalization_13 (Batc (None, 100, 100, 32)      128       \n",
      "_________________________________________________________________\n",
      "max_pooling2d_4 (MaxPooling2 (None, 50, 50, 32)        0         \n",
      "_________________________________________________________________\n",
      "dropout_6 (Dropout)          (None, 50, 50, 32)        0         \n",
      "_________________________________________________________________\n",
      "conv2d_10 (Conv2D)           (None, 50, 50, 64)        18496     \n",
      "_________________________________________________________________\n",
      "batch_normalization_14 (Batc (None, 50, 50, 64)        256       \n",
      "_________________________________________________________________\n",
      "conv2d_11 (Conv2D)           (None, 50, 50, 64)        36928     \n",
      "_________________________________________________________________\n",
      "batch_normalization_15 (Batc (None, 50, 50, 64)        256       \n",
      "_________________________________________________________________\n",
      "max_pooling2d_5 (MaxPooling2 (None, 25, 25, 64)        0         \n",
      "_________________________________________________________________\n",
      "dropout_7 (Dropout)          (None, 25, 25, 64)        0         \n",
      "_________________________________________________________________\n",
      "flatten_2 (Flatten)          (None, 40000)             0         \n",
      "_________________________________________________________________\n",
      "dense_6 (Dense)              (None, 256)               10240256  \n",
      "_________________________________________________________________\n",
      "batch_normalization_16 (Batc (None, 256)               1024      \n",
      "_________________________________________________________________\n",
      "dropout_8 (Dropout)          (None, 256)               0         \n",
      "_________________________________________________________________\n",
      "dense_7 (Dense)              (None, 128)               32896     \n",
      "_________________________________________________________________\n",
      "batch_normalization_17 (Batc (None, 128)               512       \n",
      "_________________________________________________________________\n",
      "dense_8 (Dense)              (None, 1)                 129       \n",
      "=================================================================\n",
      "Total params: 10,341,441\n",
      "Trainable params: 10,340,289\n",
      "Non-trainable params: 1,152\n",
      "_________________________________________________________________\n"
     ]
    }
   ],
   "source": [
    "shape = (image_size[0], image_size[1], image_size[2])\n",
    "lr_init     = 1.e-3    # Initial learning rate\n",
    "model = Sequential()\n",
    "model.add(Conv2D(32, activation='relu', kernel_size=3, padding='same', kernel_initializer='TruncatedNormal', input_shape=shape))\n",
    "model.add(BatchNormalization())\n",
    "model.add(Conv2D(32, activation='relu', kernel_size=3, padding='same', kernel_initializer='TruncatedNormal'))\n",
    "model.add(BatchNormalization())\n",
    "model.add(MaxPooling2D(pool_size=(2, 2)))\n",
    "model.add(Dropout(0.2))\n",
    "\n",
    "model.add(Conv2D(64, activation='relu', kernel_size=3, padding='same', kernel_initializer='TruncatedNormal'))\n",
    "model.add(BatchNormalization())\n",
    "model.add(Conv2D(64, activation='relu', kernel_size=3, padding='same', kernel_initializer='TruncatedNormal'))\n",
    "model.add(BatchNormalization())\n",
    "model.add(MaxPooling2D(pool_size=(2, 2)))\n",
    "model.add(Dropout(0.25))\n",
    "\n",
    "model.add(Flatten())\n",
    "model.add(Dense(256, activation='relu', kernel_initializer='TruncatedNormal'))\n",
    "model.add(BatchNormalization())\n",
    "model.add(Dropout(0.2))\n",
    "model.add(Dense(128, activation='relu', kernel_initializer='TruncatedNormal'))\n",
    "model.add(BatchNormalization())\n",
    "model.add(Dense(1, activation='sigmoid', kernel_initializer='TruncatedNormal'))\n",
    "model.compile(loss='binary_crossentropy', optimizer=Adam(lr=lr_init), metrics=['accuracy',tf.keras.metrics.Precision(),tf.keras.metrics.Recall()])\n",
    "model.summary()"
   ]
  },
  {
   "cell_type": "code",
   "execution_count": 13,
   "metadata": {},
   "outputs": [
    {
     "name": "stdout",
     "output_type": "stream",
     "text": [
      "Epoch 1/40\n",
      "70/70 [==============================] - 41s 578ms/step - loss: 0.5010 - accuracy: 0.7491 - precision: 0.7337 - recall: 0.7583 - val_loss: 1.8616 - val_accuracy: 0.5070 - val_precision: 0.5070 - val_recall: 1.0000\n",
      "Epoch 2/40\n",
      "70/70 [==============================] - 37s 531ms/step - loss: 0.3720 - accuracy: 0.8325 - precision: 0.8137 - recall: 0.8574 - val_loss: 3.2922 - val_accuracy: 0.5070 - val_precision: 0.5070 - val_recall: 1.0000\n",
      "Epoch 3/40\n",
      "70/70 [==============================] - 37s 531ms/step - loss: 0.3230 - accuracy: 0.8554 - precision: 0.8449 - recall: 0.8710 - val_loss: 2.7900 - val_accuracy: 0.5070 - val_precision: 0.5070 - val_recall: 1.0000\n",
      "Epoch 4/40\n",
      "70/70 [==============================] - 37s 534ms/step - loss: 0.3088 - accuracy: 0.8647 - precision: 0.8601 - recall: 0.8733 - val_loss: 4.1181 - val_accuracy: 0.5070 - val_precision: 0.5070 - val_recall: 1.0000\n",
      "Epoch 5/40\n",
      "70/70 [==============================] - 37s 533ms/step - loss: 0.2855 - accuracy: 0.8790 - precision: 0.8798 - recall: 0.8804 - val_loss: 3.7650 - val_accuracy: 0.5070 - val_precision: 0.5070 - val_recall: 1.0000\n",
      "Epoch 6/40\n",
      "70/70 [==============================] - 37s 529ms/step - loss: 0.2764 - accuracy: 0.8815 - precision: 0.8845 - recall: 0.8803 - val_loss: 2.5879 - val_accuracy: 0.5070 - val_precision: 0.5070 - val_recall: 1.0000\n",
      "Epoch 7/40\n",
      "70/70 [==============================] - 37s 532ms/step - loss: 0.2657 - accuracy: 0.8874 - precision: 0.8789 - recall: 0.8971 - val_loss: 1.1890 - val_accuracy: 0.5147 - val_precision: 0.5109 - val_recall: 1.0000\n",
      "Epoch 8/40\n",
      "70/70 [==============================] - 37s 530ms/step - loss: 0.2561 - accuracy: 0.8945 - precision: 0.8852 - recall: 0.9049 - val_loss: 0.9056 - val_accuracy: 0.5707 - val_precision: 0.5415 - val_recall: 0.9993\n",
      "Epoch 9/40\n",
      "70/70 [==============================] - 37s 533ms/step - loss: 0.2492 - accuracy: 0.8939 - precision: 0.8886 - recall: 0.8998 - val_loss: 3.7009 - val_accuracy: 0.5070 - val_precision: 0.5070 - val_recall: 1.0000\n",
      "Epoch 10/40\n",
      "70/70 [==============================] - 37s 535ms/step - loss: 0.2575 - accuracy: 0.8897 - precision: 0.8825 - recall: 0.8950 - val_loss: 1.2772 - val_accuracy: 0.5737 - val_precision: 0.5432 - val_recall: 1.0000\n",
      "Epoch 11/40\n",
      "70/70 [==============================] - 37s 532ms/step - loss: 0.2607 - accuracy: 0.8828 - precision: 0.8731 - recall: 0.8935 - val_loss: 1.3369 - val_accuracy: 0.5760 - val_precision: 0.5446 - val_recall: 1.0000\n",
      "Epoch 12/40\n",
      "70/70 [==============================] - 37s 530ms/step - loss: 0.2343 - accuracy: 0.9008 - precision: 0.8908 - recall: 0.9149 - val_loss: 0.5120 - val_accuracy: 0.7843 - val_precision: 0.7073 - val_recall: 0.9803\n",
      "Epoch 13/40\n",
      "70/70 [==============================] - 37s 531ms/step - loss: 0.2425 - accuracy: 0.8887 - precision: 0.8764 - recall: 0.9003 - val_loss: 0.5367 - val_accuracy: 0.7803 - val_precision: 0.7031 - val_recall: 0.9809\n",
      "Epoch 14/40\n",
      "70/70 [==============================] - 37s 531ms/step - loss: 0.2503 - accuracy: 0.8968 - precision: 0.8882 - recall: 0.9097 - val_loss: 0.5037 - val_accuracy: 0.7887 - val_precision: 0.7139 - val_recall: 0.9730\n",
      "Epoch 15/40\n",
      "70/70 [==============================] - 37s 531ms/step - loss: 0.2548 - accuracy: 0.8914 - precision: 0.8794 - recall: 0.9017 - val_loss: 0.3385 - val_accuracy: 0.8577 - val_precision: 0.8287 - val_recall: 0.9066\n",
      "Epoch 16/40\n",
      "70/70 [==============================] - 37s 532ms/step - loss: 0.2409 - accuracy: 0.9038 - precision: 0.8985 - recall: 0.9094 - val_loss: 0.4122 - val_accuracy: 0.8230 - val_precision: 0.7597 - val_recall: 0.9520\n",
      "Epoch 17/40\n",
      "70/70 [==============================] - 37s 532ms/step - loss: 0.2353 - accuracy: 0.9032 - precision: 0.8937 - recall: 0.9157 - val_loss: 0.5803 - val_accuracy: 0.7630 - val_precision: 0.6861 - val_recall: 0.9816\n",
      "Epoch 18/40\n",
      "70/70 [==============================] - 37s 531ms/step - loss: 0.2411 - accuracy: 0.8996 - precision: 0.8921 - recall: 0.9089 - val_loss: 0.4626 - val_accuracy: 0.8040 - val_precision: 0.7327 - val_recall: 0.9658\n",
      "Epoch 19/40\n",
      "70/70 [==============================] - 37s 534ms/step - loss: 0.2406 - accuracy: 0.8924 - precision: 0.8827 - recall: 0.9031 - val_loss: 0.4325 - val_accuracy: 0.8147 - val_precision: 0.7481 - val_recall: 0.9566\n",
      "Epoch 20/40\n",
      "70/70 [==============================] - 37s 535ms/step - loss: 0.2346 - accuracy: 0.9016 - precision: 0.8966 - recall: 0.9108 - val_loss: 0.4029 - val_accuracy: 0.8280 - val_precision: 0.7660 - val_recall: 0.9513\n",
      "Epoch 21/40\n",
      "70/70 [==============================] - 37s 534ms/step - loss: 0.2393 - accuracy: 0.9018 - precision: 0.8961 - recall: 0.9083 - val_loss: 0.4016 - val_accuracy: 0.8293 - val_precision: 0.7685 - val_recall: 0.9494\n",
      "Epoch 22/40\n",
      "70/70 [==============================] - 37s 535ms/step - loss: 0.2509 - accuracy: 0.8890 - precision: 0.8813 - recall: 0.8974 - val_loss: 0.4068 - val_accuracy: 0.8260 - val_precision: 0.7636 - val_recall: 0.9513\n",
      "Epoch 23/40\n",
      "70/70 [==============================] - 37s 536ms/step - loss: 0.2384 - accuracy: 0.8992 - precision: 0.8817 - recall: 0.9156 - val_loss: 0.4073 - val_accuracy: 0.8257 - val_precision: 0.7635 - val_recall: 0.9507\n",
      "Epoch 24/40\n",
      "70/70 [==============================] - 37s 535ms/step - loss: 0.2320 - accuracy: 0.9044 - precision: 0.8935 - recall: 0.9152 - val_loss: 0.4081 - val_accuracy: 0.8257 - val_precision: 0.7635 - val_recall: 0.9507\n",
      "Epoch 25/40\n",
      "70/70 [==============================] - 37s 535ms/step - loss: 0.2520 - accuracy: 0.8952 - precision: 0.8907 - recall: 0.8993 - val_loss: 0.4231 - val_accuracy: 0.8187 - val_precision: 0.7540 - val_recall: 0.9533\n",
      "Epoch 26/40\n",
      "70/70 [==============================] - 39s 564ms/step - loss: 0.2417 - accuracy: 0.8970 - precision: 0.8954 - recall: 0.9025 - val_loss: 0.4012 - val_accuracy: 0.8293 - val_precision: 0.7691 - val_recall: 0.9481\n",
      "Epoch 27/40\n",
      "70/70 [==============================] - 39s 565ms/step - loss: 0.2384 - accuracy: 0.8947 - precision: 0.8888 - recall: 0.8999 - val_loss: 0.4135 - val_accuracy: 0.8237 - val_precision: 0.7605 - val_recall: 0.9520\n",
      "Epoch 28/40\n",
      "70/70 [==============================] - 41s 588ms/step - loss: 0.2317 - accuracy: 0.9055 - precision: 0.8920 - recall: 0.9175 - val_loss: 0.4021 - val_accuracy: 0.8293 - val_precision: 0.7688 - val_recall: 0.9487\n",
      "Epoch 29/40\n",
      "70/70 [==============================] - 41s 591ms/step - loss: 0.2430 - accuracy: 0.8929 - precision: 0.8865 - recall: 0.9013 - val_loss: 0.4311 - val_accuracy: 0.8177 - val_precision: 0.7521 - val_recall: 0.9553\n"
     ]
    }
   ],
   "source": [
    "reduce_lr = ReduceLROnPlateau(monitor='val_loss', factor=0.2, patience=2, min_lr=1.e-6)\n",
    "early_stopping_cb = EarlyStopping(monitor='loss', patience=5)\n",
    "history=model.fit(x_train, y_train,\\\n",
    "        batch_size=100,\\\n",
    "        epochs=40,\\\n",
    "        validation_data=(x_val, y_val),\\\n",
    "        callbacks=[reduce_lr, early_stopping_cb],\\\n",
    "        verbose=1, shuffle=True)"
   ]
  },
  {
   "cell_type": "code",
   "execution_count": 4,
   "metadata": {},
   "outputs": [],
   "source": [
    "import matplotlib.pyplot as plt\n",
    "import matplotlib.image as img \n",
    "from matplotlib import ticker, cm\n",
    "import matplotlib as mpl\n",
    "import matplotlib.patches as patches\n",
    "%matplotlib inline\n",
    "import math\n",
    "import scipy.integrate as integrate\n",
    "\n",
    "from mpl_toolkits.mplot3d import axes3d"
   ]
  },
  {
   "cell_type": "code",
   "execution_count": 14,
   "metadata": {},
   "outputs": [],
   "source": [
    "#Saving the trained model and its weights\n",
    "\n",
    "model.save('CNNmodel_XENON.h5')"
   ]
  },
  {
   "cell_type": "code",
   "execution_count": 2,
   "metadata": {},
   "outputs": [
    {
     "name": "stdout",
     "output_type": "stream",
     "text": [
      "Model: \"sequential_2\"\n",
      "_________________________________________________________________\n",
      "Layer (type)                 Output Shape              Param #   \n",
      "=================================================================\n",
      "conv2d_8 (Conv2D)            (None, 100, 100, 32)      1184      \n",
      "_________________________________________________________________\n",
      "batch_normalization_12 (Batc (None, 100, 100, 32)      128       \n",
      "_________________________________________________________________\n",
      "conv2d_9 (Conv2D)            (None, 100, 100, 32)      9248      \n",
      "_________________________________________________________________\n",
      "batch_normalization_13 (Batc (None, 100, 100, 32)      128       \n",
      "_________________________________________________________________\n",
      "max_pooling2d_4 (MaxPooling2 (None, 50, 50, 32)        0         \n",
      "_________________________________________________________________\n",
      "dropout_6 (Dropout)          (None, 50, 50, 32)        0         \n",
      "_________________________________________________________________\n",
      "conv2d_10 (Conv2D)           (None, 50, 50, 64)        18496     \n",
      "_________________________________________________________________\n",
      "batch_normalization_14 (Batc (None, 50, 50, 64)        256       \n",
      "_________________________________________________________________\n",
      "conv2d_11 (Conv2D)           (None, 50, 50, 64)        36928     \n",
      "_________________________________________________________________\n",
      "batch_normalization_15 (Batc (None, 50, 50, 64)        256       \n",
      "_________________________________________________________________\n",
      "max_pooling2d_5 (MaxPooling2 (None, 25, 25, 64)        0         \n",
      "_________________________________________________________________\n",
      "dropout_7 (Dropout)          (None, 25, 25, 64)        0         \n",
      "_________________________________________________________________\n",
      "flatten_2 (Flatten)          (None, 40000)             0         \n",
      "_________________________________________________________________\n",
      "dense_6 (Dense)              (None, 256)               10240256  \n",
      "_________________________________________________________________\n",
      "batch_normalization_16 (Batc (None, 256)               1024      \n",
      "_________________________________________________________________\n",
      "dropout_8 (Dropout)          (None, 256)               0         \n",
      "_________________________________________________________________\n",
      "dense_7 (Dense)              (None, 128)               32896     \n",
      "_________________________________________________________________\n",
      "batch_normalization_17 (Batc (None, 128)               512       \n",
      "_________________________________________________________________\n",
      "dense_8 (Dense)              (None, 1)                 129       \n",
      "=================================================================\n",
      "Total params: 10,341,441\n",
      "Trainable params: 10,340,289\n",
      "Non-trainable params: 1,152\n",
      "_________________________________________________________________\n"
     ]
    }
   ],
   "source": [
    "from sklearn.metrics import roc_curve, auc\n",
    "from keras.models import load_model\n",
    "\n",
    "model = load_model('CNNmodel_XENON.h5')\n",
    "model.summary()"
   ]
  },
  {
   "cell_type": "code",
   "execution_count": 18,
   "metadata": {},
   "outputs": [
    {
     "name": "stdout",
     "output_type": "stream",
     "text": [
      "[200 200   4]\n",
      "[200 200   4]\n"
     ]
    }
   ],
   "source": [
    "from keras.models import load_model\n",
    "from keras import backend as K\n",
    "np.random.seed(0)\n",
    "from sklearn import metrics\n",
    "    \n",
    "IMAGE_PATH = '/Users/adityaupreti/Desktop/PH582ML2021/FinalProject/Images/Test_0.2'\n",
    "file_paths = glob.glob(path.join(IMAGE_PATH, '*.png'))\n",
    "\n",
    "# Load the images into a single variable and convert to a numpy array \n",
    "images = [imageio.imread(path) for path in file_paths]\n",
    "images = np.asarray(images)\n",
    "\n",
    "image_size = np.asarray([images.shape[1], images.shape[2], images.shape[3]])\n",
    "print(image_size)\n",
    "\n",
    "images = image.resize(\n",
    "    images, [100,100], method='bilinear', preserve_aspect_ratio=False,\n",
    "    antialias=False, name=None\n",
    ").numpy()\n",
    "\n",
    "print(image_size)\n",
    "\n",
    "# Scale images so values are between 0 and 1 \n",
    "images = images / 255\n",
    "\n",
    "n_images = images.shape[0]\n",
    "labels = np.zeros(n_images)\n",
    "for i in range(n_images):\n",
    "    filename = path.basename(file_paths[i])[0]\n",
    "    if filename[0] == 'W':            #Every file that begins with W is assigned a 1\n",
    "        labels[i] = 1\n",
    "    elif filename[0] == 'E':\n",
    "        labels[i] = 0\n",
    "\n",
    "x_test = images\n",
    "y_test = labels\n",
    "y_test = np.asarray(y_test)"
   ]
  },
  {
   "cell_type": "code",
   "execution_count": 19,
   "metadata": {},
   "outputs": [
    {
     "name": "stdout",
     "output_type": "stream",
     "text": [
      "(5442, 100, 100, 4)\n"
     ]
    }
   ],
   "source": [
    "print(images.shape)"
   ]
  },
  {
   "cell_type": "code",
   "execution_count": 29,
   "metadata": {},
   "outputs": [
    {
     "name": "stdout",
     "output_type": "stream",
     "text": [
      "171/171 [==============================] - 9s 52ms/step - loss: 0.3446 - accuracy: 0.8548 - precision: 0.8211 - recall: 0.9432\n",
      "\n",
      "Test loss / accuracy: 0.3446 / 0.8548\n",
      "Test ROC AUC: 0.9361346474867995\n"
     ]
    }
   ],
   "source": [
    "# Evaluate on test set\n",
    "from sklearn import metrics\n",
    "score = model.evaluate(x_test, y_test, verbose=1)\n",
    "print('\\nTest loss / accuracy: %0.4f / %0.4f'%(score[0], score[1]))\n",
    "y_pred = model.predict(x_test)\n",
    "fpr, tpr, _ = roc_curve(y_test, y_pred)\n",
    "roc_auc = metrics.auc(fpr, tpr)\n",
    "print('Test ROC AUC:', roc_auc)"
   ]
  },
  {
   "cell_type": "code",
   "execution_count": 26,
   "metadata": {},
   "outputs": [
    {
     "name": "stdout",
     "output_type": "stream",
     "text": [
      "[[0.4957267 ]\n",
      " [0.87780476]\n",
      " [0.8356443 ]\n",
      " ...\n",
      " [0.9947449 ]\n",
      " [0.99576545]\n",
      " [0.00325624]]\n"
     ]
    }
   ],
   "source": [
    "print(y_pred)"
   ]
  },
  {
   "cell_type": "code",
   "execution_count": 22,
   "metadata": {},
   "outputs": [
    {
     "data": {
      "image/png": "[encoded data removed]",
      "text/plain": [
       "<Figure size 864x720 with 1 Axes>"
      ]
     },
     "metadata": {
      "needs_background": "light"
     },
     "output_type": "display_data"
    }
   ],
   "source": [
    "plt.rcParams['figure.figsize'] = [12, 10]\n",
    "plt.plot([0, 1], [0, 1], 'k--')\n",
    "plt.plot(fpr, tpr, label='Model 1 (ROC-AUC = {:.3f})'.format(roc_auc), linestyle='--',lw=3,color='red')\n",
    "\n",
    "plt.xlabel(r'False positive rate',fontsize=20)\n",
    "plt.ylabel(r'True positive rate ',fontsize=20)\n",
    "plt.title(r'ROC curve',fontsize=20)\n",
    "plt.legend(loc='best',numpoints = 1,frameon=False,prop={'size': 20})\n",
    "\n",
    "plt.gca().tick_params(labelsize=20)"
   ]
  },
  {
   "cell_type": "code",
   "execution_count": null,
   "metadata": {},
   "outputs": [],
   "source": [
    "plt.rcParams['figure.figsize'] = [12, 10]\n",
    "pd.DataFrame(history.history).plot()\n",
    "plt.xlabel(r'Epochs',fontsize=20)\n",
    "plt.ylabel(r'Metrics',fontsize=20)\n",
    "plt.legend(loc='best',numpoints = 1,frameon=False,prop={'size': 20})\n",
    "plt.gca().tick_params(labelsize=20)"
   ]
  },
  {
   "cell_type": "code",
   "execution_count": 23,
   "metadata": {},
   "outputs": [
    {
     "name": "stdout",
     "output_type": "stream",
     "text": [
      "Logistic: f1=0.878 auc=0.9426630\n"
     ]
    },
    {
     "data": {
      "image/png": "[encoded data removed]",
      "text/plain": [
       "<Figure size 864x720 with 1 Axes>"
      ]
     },
     "metadata": {
      "needs_background": "light"
     },
     "output_type": "display_data"
    }
   ],
   "source": [
    "lr_probs = model.predict(x_test)    # Predict probabilities\n",
    "yhat = model.predict(x_test)      # Predict class values\n",
    "yhat = np.round(yhat)\n",
    "lr_precision, lr_recall, _ = precision_recall_curve(y_test, lr_probs)\n",
    "lr_f1 = f1_score(y_test, yhat)\n",
    "lr_auc = metrics.auc(lr_recall, lr_precision)\n",
    "\n",
    "print('Logistic: f1=%.3f auc=%.7f' % (lr_f1, lr_auc))   # Summarise scores\n",
    "\n",
    "''' plot the precision-recall curves '''\n",
    "no_skill = len(y_test[y_test==1]) / len(y_test)\n",
    "\n",
    "plt.rcParams['figure.figsize'] = [12, 10]\n",
    "plt.plot(lr_recall, lr_precision, label='F1 = %0.2f' %(lr_f1), color='green')\n",
    "\n",
    "plt.xlabel(r'Recall',fontsize=20)\n",
    "plt.ylabel(r'Precision',fontsize=20)\n",
    "plt.title(r'Precision-Recall (PR) Curve',fontsize=20)\n",
    "plt.legend(loc='best',numpoints = 1,frameon=False,prop={'size': 20})\n",
    "\n",
    "plt.gca().tick_params(labelsize=20)"
   ]
  },
  {
   "cell_type": "code",
   "execution_count": null,
   "metadata": {},
   "outputs": [],
   "source": []
  },
  {
   "cell_type": "code",
   "execution_count": 24,
   "metadata": {
    "scrolled": false
   },
   "outputs": [
    {
     "name": "stdout",
     "output_type": "stream",
     "text": [
      "Accuracy: 0.8548327820654171\n",
      "Average precision: 0.8059686292814007\n",
      "recall: 0.943245934284766\n",
      "AUC:0.8979090810842528\n",
      "Predicted   0.0   1.0\n",
      "Actual               \n",
      "0.0        1810   619\n",
      "1.0         171  2842\n"
     ]
    },
    {
     "data": {
      "image/png": "[encoded data removed]",
      "text/plain": [
       "<Figure size 720x720 with 2 Axes>"
      ]
     },
     "metadata": {
      "needs_background": "light"
     },
     "output_type": "display_data"
    }
   ],
   "source": [
    "test_predictions = yhat             # Make a prediction on the test set\n",
    "accuracy = accuracy_score(y_test, test_predictions)\n",
    "print(\"Accuracy: \" + str(accuracy))\n",
    "average_precision = average_precision_score(y_test, test_predictions)\n",
    "print(\"Average precision: \" + str(average_precision))\n",
    "\n",
    "from sklearn.metrics import precision_recall_curve\n",
    "\n",
    "precision, recall, threshold = precision_recall_curve(y_test, test_predictions)\n",
    "auc = metrics.auc(recall, precision)\n",
    "recall1 = recall_score(y_test, np.round(test_predictions))\n",
    "print(\"recall: \" + str(recall1))\n",
    "print('AUC:' +str(auc))\n",
    "\n",
    "\n",
    "# Report Confusion Matrix\n",
    "y_actu = pd.Series(y_test.ravel(), name='Actual')\n",
    "y_pred = pd.Series(np.round(test_predictions.ravel()), name='Predicted')\n",
    "df_confusion = pd.crosstab(y_actu, y_pred)\n",
    "print(df_confusion)\n",
    "\n",
    "# Plot confusion matrix\n",
    "def plot_confusion_matrix(df_confusion, cmap='YlGn'):\n",
    "    plt.rcParams['figure.figsize'] = [12, 10]\n",
    "\n",
    "    plt.matshow(df_confusion, cmap=cmap) # imshow\n",
    "    plt.colorbar()\n",
    "    tick_marks = np.arange(0,len(df_confusion.columns))\n",
    "    plt.xticks(tick_marks, df_confusion.columns, fontsize=20)\n",
    "    plt.yticks(tick_marks, df_confusion.index, fontsize=20)\n",
    "    plt.ylabel(df_confusion.index.name,fontsize=20)\n",
    "    plt.xlabel(df_confusion.columns.name,fontsize=20)\n",
    "    plt.gca().tick_params(labelsize=20)\n",
    "    for i in range(len(df_confusion.index)):\n",
    "        for j in range(len(df_confusion.columns)):\n",
    "            plt.text(j,i,str(df_confusion.iloc[i,j]))\n",
    "    plt.show()\n",
    "\n",
    "plot_confusion_matrix(df_confusion)"
   ]
  },
  {
   "cell_type": "code",
   "execution_count": 24,
   "metadata": {},
   "outputs": [
    {
     "data": {
      "image/png": "[encoded data removed]",
      "text/plain": [
       "<Figure size 432x288 with 1 Axes>"
      ]
     },
     "metadata": {
      "needs_background": "light"
     },
     "output_type": "display_data"
    }
   ],
   "source": [
    "from sklearn.metrics import roc_curve\n",
    "from sklearn.metrics import roc_auc_score\n",
    "\n",
    "def plot_roc_curve(fpr, tpr):\n",
    "    plt.plot(fpr, tpr, color='darkblue', label='AUC = %0.2f' %(auc))\n",
    "    plt.plot([0, 1], [0, 1], color='orange', linestyle='--')\n",
    "    plt.xlabel('False Positive Rate')\n",
    "    plt.ylabel('True Positive Rate')\n",
    "    plt.title('Receiver Operating Characteristic (ROC) Curve')\n",
    "    plt.legend()\n",
    "    plt.show()\n",
    "    \n",
    "fpr, tpr, thresholds = roc_curve(y_test, test_predictions)\n",
    "# Save tpr and fpr to plot seperate ROC curve\n",
    "#np.savetxt(\"/content/drive/My Drive/Colab Notebooks/tpr.txt\",tpr)\n",
    "#np.savetxt(\"/content/drive/My Drive/Colab Notebooks/fpr.txt\",fpr)\n",
    "plot_roc_curve(fpr, tpr)"
   ]
  },
  {
   "cell_type": "code",
   "execution_count": 28,
   "metadata": {},
   "outputs": [
    {
     "name": "stdout",
     "output_type": "stream",
     "text": [
      "('Failed to import pydot. You must `pip install pydot` and install graphviz (https://graphviz.gitlab.io/download/), ', 'for `pydotprint` to work.')\n"
     ]
    }
   ],
   "source": [
    "from keras.utils.vis_utils import plot_model\n",
    "plot_model(model, to_file='model_plot.png', show_shapes=True, show_layer_names=True)"
   ]
  },
  {
   "cell_type": "code",
   "execution_count": 29,
   "metadata": {},
   "outputs": [],
   "source": [
    "import visualkeras"
   ]
  },
  {
   "cell_type": "code",
   "execution_count": 30,
   "metadata": {},
   "outputs": [],
   "source": [
    "visualkeras.layered_view(model).show() # display using your system viewer"
   ]
  },
  {
   "cell_type": "code",
   "execution_count": 32,
   "metadata": {},
   "outputs": [
    {
     "data": {
      "image/png": "[encoded data removed]",
      "text/plain": [
       "<PIL.Image.Image image mode=RGBA size=1047x534 at 0x1431DABE0>"
      ]
     },
     "execution_count": 32,
     "metadata": {},
     "output_type": "execute_result"
    }
   ],
   "source": [
    "visualkeras.layered_view(model, to_file='CNNmodel_output.png') # write to disk"
   ]
  }
 ],
 "metadata": {
  "accelerator": "GPU",
  "colab": {
   "collapsed_sections": [],
   "machine_shape": "hm",
   "name": "CNN.ipynb",
   "provenance": []
  },
  "kernelspec": {
   "display_name": "Python 3",
   "language": "python",
   "name": "python3"
  },
  "language_info": {
   "codemirror_mode": {
    "name": "ipython",
    "version": 3
   },
   "file_extension": ".py",
   "mimetype": "text/x-python",
   "name": "python",
   "nbconvert_exporter": "python",
   "pygments_lexer": "ipython3",
   "version": "3.8.8"
  }
 },
 "nbformat": 4,
 "nbformat_minor": 1
}
